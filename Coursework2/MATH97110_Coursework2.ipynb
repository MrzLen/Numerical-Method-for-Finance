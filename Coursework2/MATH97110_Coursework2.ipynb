{
  "cells": [
    {
      "cell_type": "markdown",
      "metadata": {
        "id": "ZQ9-l3B813Cf"
      },
      "source": [
        "# **Finite difference method for solving Black-Scholes PDE**\n",
        "\n",
        "To price a European option with payoff function $(S_T-K)^{+}$ under Black-Scholes model, we need to solve the PDE\n",
        "\n",
        "\\begin{align}\n",
        "\\frac{\\partial V}{\\partial \\tau}&=\\frac{\\sigma(\\tau, s)^2 s^2}{2}\\frac{\\partial^2 V}{\\partial s^2} + rs\\frac{\\partial V}{\\partial s} -rV,& \\tau>0 \\\\\n",
        "V(0,s)&= g(s) = (s-K)^{+},& \\tau=0\n",
        "\\end{align}\n",
        "\n",
        "$$\\sigma(\\tau, s) = (1 + \\frac{T - \\tau}{30})(0.1 + 0.4 * \\exp(-\\frac{s}{50}))$$\n"
      ]
    },
    {
      "cell_type": "code",
      "execution_count": 1,
      "metadata": {
        "id": "8cjFU9RxHe-F"
      },
      "outputs": [],
      "source": [
        "import numpy as np\n",
        "import pandas as pd\n",
        "import scipy.stats as si\n",
        "from scipy.sparse import diags\n",
        "from scipy.linalg import solve_triangular\n",
        "import matplotlib.pyplot as plt\n",
        "\n",
        "# Market and option parameters\n",
        "K, r, T = 100, 0.01, 1"
      ]
    },
    {
      "cell_type": "markdown",
      "metadata": {
        "id": "J4BuQClRFNTe"
      },
      "source": [
        "# *Setup of the grid and boundary condition*\n",
        "\n",
        "*Boundary condition*\n",
        "\n",
        "In this example we will work with the domain of $(\\tau,s)$ directly which is truncated to $D:=[0,T]\\times [s_{min},s_{max}]$. Since a call option is involved, we impose the boundary conditions\n",
        "\\begin{align}\n",
        "V(\\tau,s_{min})=\\ell(\\tau,s_{min})=0,\\qquad V(\\tau,s_{max})=u(\\tau,s_{max})=s_{max}-Ke^{-r\\tau} \\qquad \\text{for all } \\tau<T\n",
        "\\end{align}\n",
        "<br>\n",
        "<br>\n",
        "*Grid specification*\n",
        "\n",
        "We construct a uniform grid over $D$ with $N+1$ points along the time dimension and $M+1$ points along the space dimension. Let\n",
        "\\begin{align*}\n",
        "\\triangle \\tau:=\\frac{T}{N},\\qquad \\triangle x:=\\frac{s_{max}-s_{min}}{M}.\n",
        "\\end{align*}\n",
        "Then the values of the grid points are given by\n",
        "\\begin{align*}\n",
        "\\tau_n&:=n\\triangle t,& n=0,1,...,N \\\\\n",
        "s_k&:=s_{min}+k\\triangle x,& k=0,1,...,M\n",
        "\\end{align*}"
      ]
    },
    {
      "cell_type": "code",
      "execution_count": 2,
      "metadata": {
        "id": "mIdYbcKN1wcg"
      },
      "outputs": [],
      "source": [
        "# Grid parameters\n",
        "s_min, s_max = 10, 300\n",
        "N, M = 1000, 290  # we want the grid of x to be 5 \n",
        "\n",
        "# Setup of grids\n",
        "dtau = T/N\n",
        "dx = (s_max - s_min)/M\n",
        "s = np.linspace(s_min, s_max, M+1)\n",
        "tau = np.linspace(0, T, N+1)"
      ]
    },
    {
      "cell_type": "markdown",
      "metadata": {
        "id": "v18VR2ySFIlh"
      },
      "source": [
        "# *Explicit scheme*\n",
        "\n",
        "Under explicit scheme the PDE can be discretised as\n",
        "\n",
        "\\begin{align*}\n",
        "V^{n+1}_k&=A^{n}_k V^n_{k-1} +(1+B^{n}_k) V^n_{k}+C^{n}_k V^n_{k+1}\n",
        "\\end{align*}\n",
        "for $k=1, 2, ..., M-1$, where\n",
        "\\begin{align}\n",
        "A^{n}_k:=\\frac{\\triangle \\tau}{\\triangle x^2}\\frac{\\sigma(\\tau_n, s_k)^2 s_k^2}{2}-\\frac{\\triangle \\tau}{2\\triangle x}rs_k,\\qquad B^{n}_k:=-\\frac{ \\triangle \\tau}{\\triangle x^2}\\sigma(\\tau_n, s_k)^2 s_k^2-\\triangle \\tau r,\\qquad C^{n}_k:=\\frac{\\triangle \\tau}{\\triangle x^2}\\frac{\\sigma(\\tau_n, s_k)^2 s_k^2}{2}+\\frac{\\triangle \\tau}{2\\triangle x}rs_k\n",
        "\\end{align}"
      ]
    },
    {
      "cell_type": "markdown",
      "metadata": {
        "id": "icDtg6RAIqcj"
      },
      "source": [
        "Recall that the $M-1$ recursive equations can be summarised using matrix notation\n",
        "\\begin{align*}\n",
        "\\underbrace{\n",
        "\\begin{bmatrix}\n",
        "V^{n+1}_0 \\\\ \n",
        "V^{n+1}_1 \\\\ \n",
        "V^{n+1}_2 \\\\ \n",
        " \\vdots \\\\ \n",
        " \\vdots\\\\ \n",
        "V^{n+1}_{M-1}\\\\ \n",
        "V^{n+1}_M  \n",
        "\\end{bmatrix}}_{=:V^{n+1}}\n",
        "=\n",
        "\\underbrace{\n",
        "\\begin{bmatrix}\n",
        "1 & 0 & 0 &  \\cdots&  &  &  &0 &0\\\\ \n",
        "A^n_1 & 1+B^n_1 & C^n_1 & 0 & \\cdots &  &  &0 &0\\\\ \n",
        "0 & A^n_2 & 1+B^n_2 &C^n_2  & 0 &\\cdots  &  && \\\\ \n",
        " &  &  &  & \\ddots & &  &  & \\\\ \n",
        " \\vdots&  &  &  &  & A^n_{M-2} &  1+B^n_{M-2}& C^n_{M-2}& 0\\\\ \n",
        " &  &  &  &  &0 & A^n_{M-1} & 1+B^n_{M-1} & C^n_{M-1}\\\\ \n",
        " 0&0  &\\cdots  &  & & 0& 0 & 0 &1 \n",
        "\\end{bmatrix}}_{=:\\mathbb{I}+L^n}\n",
        "\\underbrace{\n",
        "\\begin{bmatrix}\n",
        "V^{n}_0 \\\\ \n",
        "V^{n}_1 \\\\ \n",
        "V^{n}_2 \\\\ \n",
        " \\vdots \\\\ \n",
        " \\vdots\\\\ \n",
        "V^{n}_{M-1}\\\\ \n",
        "V^{n}_M  \n",
        "\\end{bmatrix}}_{=:V^{n}}\n",
        "\\end{align*}\n",
        "Here $\\mathbb{I}$ is an $(M+1)\\times (M+1)$ identity matrix and $L^n$ is an $(M+1)\\times (M+1)$ matrix in form of\n",
        "\\begin{align}\n",
        "L^n:=\n",
        "\\begin{bmatrix}\n",
        "0 & 0 & 0 &  \\cdots&  &  &  &0 &0\\\\ \n",
        "A^n_1 & B^n_1 & C^n_1 & 0 & \\cdots &  &  &0 &0\\\\ \n",
        "0 & A^n_2 & B^n_2 &C^n_2  & 0 &\\cdots  &  && \\\\ \n",
        " &  &  &  & \\ddots & &  &  & \\\\ \n",
        " \\vdots&  &  &  &  & A^n_{M-2} &  B^n_{M-2}& C^n_{M-2}& 0\\\\ \n",
        " &  &  &  &  &0 & A^n_{M-1} & B^n_{M-1} & C^n_{M-1}\\\\ \n",
        " 0&0  &\\cdots  &  & & 0& 0 & 0 &0\n",
        "\\end{bmatrix}\n",
        "\\end{align}\n",
        "\n",
        "In our specific example, $A$, $B$ and $C$ (and in turn the matrix $L$) have no dependence on $n$ and hence can be pre-set before running the loop."
      ]
    },
    {
      "cell_type": "markdown",
      "metadata": {
        "id": "a0cTPFDSJ8Fd"
      },
      "source": [
        "Recall that the system $V^{n+1}=(\\mathbb{I}+L^n) V^n$ doesn't give us the correct value of $V^{n+1}_0$ and $V^{n+1}_M$. We need to manually overwrite the first and last entry of the vector to incorporate the boundary conditions at $s=s_0=s_{min}$ and $s=s_M=s_{max}$. The complete recursive algorithm is: \n",
        "\\begin{align}\n",
        "V^{n+1}=B^{n+1}((\\mathbb{I}+L^n) V^{n})\n",
        "\\end{align}\n",
        "where $B^{n+1}(\\cdot)$ is an operator which overwrites the first and last entry of the input vector to $\\ell^{n+1}_0:=\\ell(t_{n+1},x_0)$ and $u^{n+1}_{M}:=u(t_{n+1},x_M)$."
      ]
    },
    {
      "cell_type": "code",
      "execution_count": 3,
      "metadata": {
        "id": "U5y4lv_nKcDb"
      },
      "outputs": [],
      "source": [
        "Volatility_function = lambda x, y: (1 + (T - x) / 30) * (0.1 + 0.4 * np.exp(- y/50)) # x and y are indeed tau and s \n",
        "\n",
        "#compute volatility at tau = 0, ie. t = T \n",
        "volatility = np.array(Volatility_function(0, s))\n",
        "\n",
        "def getmatrix(volatility):\n",
        "    A =  0.5 * volatility**2 * dtau / dx**2 * s**2 - 0.5 * r * dtau/dx * s\n",
        "    B =  - volatility**2 * dtau / dx**2 * s**2 - r * dtau\n",
        "    C =  0.5 * volatility**2 * dtau / dx**2 * s**2 + 0.5 * r * dtau/dx * s\n",
        "    a_diag = np.concatenate([A[1:-1],[0]])\n",
        "    b_diag = np.concatenate([[0],B[1:-1],[0]])\n",
        "    c_diag = np.concatenate([[0],C[1:-1]])\n",
        "    L = diags([a_diag, b_diag, c_diag], [-1, 0, 1]).toarray()\n",
        "    I = np.identity(M+1)\n",
        "    return a_diag, b_diag, c_diag, L, I\n",
        "\n",
        "# Running the explicit scheme\n",
        "# Initial condition\n",
        "a_diag, b_diag, c_diag, L, I = getmatrix(volatility)\n",
        "v_ex = np.maximum(s - K, 0) # call option payoff\n",
        "\n",
        "# Iteration of explicit scheme\n",
        "for n in range(1,N+1):\n",
        "    v_ex = np.matmul(I+L, v_ex)           # Matrix product V^{n+1} = (I+L)V^n\n",
        "    v_ex[0] = 0                           # Boundary operation at s_min\n",
        "    v_ex[M] = s_max - K*np.exp(-r*tau[n])   # Boundary operation at s_max\n",
        "   \n",
        "    volatility =  np.array(Volatility_function(n/N, s))\n",
        "    a_diag, b_diag, c_diag, L, I = getmatrix(volatility)\n"
      ]
    },
    {
      "cell_type": "code",
      "execution_count": 4,
      "metadata": {},
      "outputs": [
        {
          "data": {
            "text/plain": [
              "array([ 0.75054474,  1.47457461,  2.64511496,  4.3737118 ,  6.72770023,\n",
              "        9.71293237, 13.27446034, 17.3138055 , 21.71437099])"
            ]
          },
          "execution_count": 4,
          "metadata": {},
          "output_type": "execute_result"
        }
      ],
      "source": [
        "v_ex[70:111:5] #S_0 = {80, 85, ..., 120}}"
      ]
    },
    {
      "cell_type": "markdown",
      "metadata": {
        "id": "Y3I-lg0iS-3l"
      },
      "source": [
        "# *Fully implicit scheme*\n",
        "\n",
        "Under fully implicit scheme the PDE is now discretised as\n",
        "\n",
        "\\begin{align*}\n",
        "V^{n-1}_k&=-A^{n}_k V^n_{k-1} +(1-B^{n}_k) V^n_{k}-C^{n}_k V^n_{k+1}\n",
        "\\end{align*}\n",
        "for $A$, $B$ and $C$ are defined previously. After taking boundary condition into account, a matrix representation is\n",
        "\\begin{align*}\n",
        "\\begin{bmatrix}\n",
        "1 & 0 & 0 &  \\cdots&  &  &  &0 &0\\\\ \n",
        "-A^n_1 & 1-B^n_1 & -C^n_1 & 0 & \\cdots &  &  &0 &0\\\\ \n",
        "0 & -A^n_2 & 1-B^n_2 &-C^n_2  & 0 &\\cdots  &  && \\\\ \n",
        " &  &  &  & \\ddots & &  &  & \\\\ \n",
        " \\vdots&  &  &  &  & -A^n_k &  1-B^n_k& -C^n_k& 0\\\\ \n",
        " &  &  &  &  & 0& -A^n_{M-1} & 1-B^n_{M-1} & -C^n_{M-1}\\\\ \n",
        " 0&0  &\\cdots  &  & & 0& 0 & 0 &1 \n",
        "\\end{bmatrix}\n",
        "\\begin{bmatrix}\n",
        "V^{n}_0 \\\\ \n",
        "V^{n}_1 \\\\ \n",
        "V^{n}_2 \\\\ \n",
        " \\vdots \\\\ \n",
        " \\vdots\\\\ \n",
        "V^{n}_{M-1}\\\\ \n",
        "V^{n}_M  \n",
        "\\end{bmatrix}\n",
        "=\n",
        "\\begin{bmatrix}\n",
        "\\ell^{n}_0 \\\\ \n",
        "V^{n-1}_1 \\\\ \n",
        "V^{n-1}_2 \\\\ \n",
        " \\vdots \\\\ \n",
        " \\vdots\\\\ \n",
        "V^{n-1}_{M-1}\\\\ \n",
        "u^{n}_M  \n",
        "\\end{bmatrix}\n",
        "\\end{align*}\n",
        "In matrix form, it can be represented as\n",
        "\\begin{align}\n",
        "(\\mathbb{I}-L^{n})V^{n}=B^{n}(V^{n-1}).\n",
        "\\end{align}\n",
        "\n",
        "To solve $V^{n}$, we implement the Thomas algorithm which solves system of equation $Ax=d$ with $A$ being a tridiagonal matrix of the form\n",
        "\\begin{align*}\n",
        "\\begin{bmatrix}\n",
        "b_0 & c_0 & 0 &  \\cdots&  &  &  &0 &0 \\\\ \n",
        "a_1 & b_1 & c_1 & 0 & \\cdots &  &  &0 &0 \\\\ \n",
        "0 & a_2 & b_2 &c_2  & 0 &\\cdots  &  & &  \\\\ \n",
        " &  &  &  & \\ddots & &  &  &   \\vdots\\\\ \n",
        " \\vdots&  &  &  &  & a_{M-2} & b_{M-2}& c_{M-2}& 0 \\\\ \n",
        " &  &  &  &  & 0& a_{M-1} & b_{M-1} & c_{M-1} \\\\ \n",
        " 0&0  &\\cdots  &  & & 0& 0 & a_M &b_M \n",
        "\\end{bmatrix}\n",
        "\\end{align*}"
      ]
    },
    {
      "cell_type": "code",
      "execution_count": 5,
      "metadata": {
        "id": "r50pMg3aUxRW"
      },
      "outputs": [],
      "source": [
        "# Tridiagional matrix solver. a, b, c are the low, mid and high diagional of the matrix\n",
        "# d is the constant vector on the RHS\n",
        "#(copied shamelessly from https://gist.github.com/cbellei/8ab3ab8551b8dfc8b081c518ccd9ada9)\n",
        "def TDMAsolver(a, b, c, d):\n",
        "\n",
        "    nf = len(d) # number of equations\n",
        "    ac, bc, cc, dc = map(np.array, (a, b, c, d)) # copy arrays\n",
        "    for it in range(1, nf):\n",
        "        mc = ac[it-1]/bc[it-1]\n",
        "        bc[it] = bc[it] - mc*cc[it-1] \n",
        "        dc[it] = dc[it] - mc*dc[it-1]\n",
        "        \t    \n",
        "    xc = bc\n",
        "    xc[-1] = dc[-1]/bc[-1]\n",
        "\n",
        "    for il in range(nf-2, -1, -1):\n",
        "        xc[il] = (dc[il]-cc[il]*xc[il+1])/bc[il]\n",
        "\n",
        "    return xc"
      ]
    },
    {
      "cell_type": "markdown",
      "metadata": {
        "id": "LZUcazZDWSLQ"
      },
      "source": [
        "Now we run the iteration to solve the resursion\n",
        "\\begin{align}\n",
        "(\\mathbb{I}-L^{n})V^{n}=B^{n}(V^{n-1}).\n",
        "\\end{align}"
      ]
    },
    {
      "cell_type": "code",
      "execution_count": 6,
      "metadata": {
        "id": "HT0KAhhFUsJw"
      },
      "outputs": [],
      "source": [
        "# Running the implicit scheme\n",
        "#compute volatility at tau = 0, ie. t = T \n",
        "volatility = np.array(Volatility_function(tau[1], s))\n",
        "\n",
        "a_diag, b_diag, c_diag, L, I = getmatrix(volatility)\n",
        "\n",
        "# Running the implicit scheme\n",
        "v_im = np.maximum(s - K, 0)\n",
        "\n",
        "# Iteration of implicit scheme\n",
        "for n in range(1,N+1):\n",
        "    d = v_im   # The RHS of the system of equations is V^{n-1}\n",
        "    d[0] = 0   # Boundary operator at s_min\n",
        "    d[M] = s_max - K*np.exp(-r*tau[n])  # Boundary operator at s_min\n",
        "    v_im = TDMAsolver(-a_diag, 1-b_diag, -c_diag, d)   # Run the Thomas algorithm to solve for V^n\n",
        "\n",
        "    volatility =  np.array(Volatility_function((n+1)/N, s))\n",
        "    a_diag, b_diag, c_diag, L, I = getmatrix(volatility)\n"
      ]
    },
    {
      "cell_type": "code",
      "execution_count": 7,
      "metadata": {},
      "outputs": [
        {
          "data": {
            "text/plain": [
              "array([ 0.7510494 ,  1.47450302,  2.64427557,  4.37220727,  6.72591171,\n",
              "        9.71133978, 13.27341901, 17.31341944, 21.71451515])"
            ]
          },
          "execution_count": 7,
          "metadata": {},
          "output_type": "execute_result"
        }
      ],
      "source": [
        "v_im[70:111:5]"
      ]
    },
    {
      "cell_type": "markdown",
      "metadata": {},
      "source": [
        "# Crank - Nicolson\n",
        "$(\\mathbb{I}-0.5 * L^{n})V^{n}=B^{n}((\\mathbb{I}+0.5*L^{n-1}) V^{(n-1)})$"
      ]
    },
    {
      "cell_type": "code",
      "execution_count": 8,
      "metadata": {},
      "outputs": [],
      "source": [
        "# Running the Crank-Nicolson scheme\n",
        "volatility1 = np.array(Volatility_function(0, s))\n",
        "volatility2 = np.array(Volatility_function(tau[1], s))\n",
        "\n",
        "a_diag1, b_diag1, c_diag1, L1, I = getmatrix(volatility1)\n",
        "a_diag2, b_diag2, c_diag2, L2, I = getmatrix(volatility2)\n",
        "\n",
        "# Initial condition\n",
        "v_crank = np.maximum(s - K, 0)\n",
        "\n",
        "for n in range(1,N+1):\n",
        "    d = np.matmul(I + 0.5*L1, v_crank)     # The RHS of the system of equations is V^{n-1}\n",
        "    d[0] = 0   # Boundary operator at s_min\n",
        "    d[M] = s_max - K*np.exp(-r*tau[n])  # Boundary operator at s_min\n",
        "    v_crank = TDMAsolver(-0.5*a_diag2, 1-0.5*b_diag2, -0.5*c_diag2, d)   # Run the Thomas algorithm to solve for V^n\n",
        "\n",
        "    volatility1 =  np.array(Volatility_function(n/N, s))\n",
        "    volatility2 = np.array(Volatility_function((n+1)/N, s))\n",
        "\n",
        "    a_diag1, b_diag1, c_diag1, L1, I = getmatrix(volatility1)\n",
        "    a_diag2, b_diag2, c_diag2, L2, I = getmatrix(volatility2)\n"
      ]
    },
    {
      "cell_type": "code",
      "execution_count": 9,
      "metadata": {},
      "outputs": [
        {
          "data": {
            "text/plain": [
              "array([ 0.75079695,  1.47453855,  2.64469509,  4.37295958,  6.72680613,\n",
              "        9.71213613, 13.27393953, 17.31361221, 21.71444289])"
            ]
          },
          "execution_count": 9,
          "metadata": {},
          "output_type": "execute_result"
        }
      ],
      "source": [
        "v_crank[70:111:5]"
      ]
    },
    {
      "cell_type": "code",
      "execution_count": 10,
      "metadata": {},
      "outputs": [
        {
          "data": {
            "text/html": [
              "<div>\n",
              "<style scoped>\n",
              "    .dataframe tbody tr th:only-of-type {\n",
              "        vertical-align: middle;\n",
              "    }\n",
              "\n",
              "    .dataframe tbody tr th {\n",
              "        vertical-align: top;\n",
              "    }\n",
              "\n",
              "    .dataframe thead th {\n",
              "        text-align: right;\n",
              "    }\n",
              "</style>\n",
              "<table border=\"1\" class=\"dataframe\">\n",
              "  <thead>\n",
              "    <tr style=\"text-align: right;\">\n",
              "      <th></th>\n",
              "      <th>Initial</th>\n",
              "      <th>Explicit</th>\n",
              "      <th>Implicit</th>\n",
              "      <th>Crank-Nicolson</th>\n",
              "    </tr>\n",
              "  </thead>\n",
              "  <tbody>\n",
              "    <tr>\n",
              "      <th>0</th>\n",
              "      <td>80</td>\n",
              "      <td>0.750545</td>\n",
              "      <td>0.751049</td>\n",
              "      <td>0.750797</td>\n",
              "    </tr>\n",
              "    <tr>\n",
              "      <th>1</th>\n",
              "      <td>85</td>\n",
              "      <td>1.474575</td>\n",
              "      <td>1.474503</td>\n",
              "      <td>1.474539</td>\n",
              "    </tr>\n",
              "    <tr>\n",
              "      <th>2</th>\n",
              "      <td>90</td>\n",
              "      <td>2.645115</td>\n",
              "      <td>2.644276</td>\n",
              "      <td>2.644695</td>\n",
              "    </tr>\n",
              "    <tr>\n",
              "      <th>3</th>\n",
              "      <td>95</td>\n",
              "      <td>4.373712</td>\n",
              "      <td>4.372207</td>\n",
              "      <td>4.372960</td>\n",
              "    </tr>\n",
              "    <tr>\n",
              "      <th>4</th>\n",
              "      <td>100</td>\n",
              "      <td>6.727700</td>\n",
              "      <td>6.725912</td>\n",
              "      <td>6.726806</td>\n",
              "    </tr>\n",
              "    <tr>\n",
              "      <th>5</th>\n",
              "      <td>105</td>\n",
              "      <td>9.712932</td>\n",
              "      <td>9.711340</td>\n",
              "      <td>9.712136</td>\n",
              "    </tr>\n",
              "    <tr>\n",
              "      <th>6</th>\n",
              "      <td>110</td>\n",
              "      <td>13.274460</td>\n",
              "      <td>13.273419</td>\n",
              "      <td>13.273940</td>\n",
              "    </tr>\n",
              "    <tr>\n",
              "      <th>7</th>\n",
              "      <td>115</td>\n",
              "      <td>17.313805</td>\n",
              "      <td>17.313419</td>\n",
              "      <td>17.313612</td>\n",
              "    </tr>\n",
              "    <tr>\n",
              "      <th>8</th>\n",
              "      <td>120</td>\n",
              "      <td>21.714371</td>\n",
              "      <td>21.714515</td>\n",
              "      <td>21.714443</td>\n",
              "    </tr>\n",
              "  </tbody>\n",
              "</table>\n",
              "</div>"
            ],
            "text/plain": [
              "   Initial   Explicit   Implicit  Crank-Nicolson\n",
              "0       80   0.750545   0.751049        0.750797\n",
              "1       85   1.474575   1.474503        1.474539\n",
              "2       90   2.645115   2.644276        2.644695\n",
              "3       95   4.373712   4.372207        4.372960\n",
              "4      100   6.727700   6.725912        6.726806\n",
              "5      105   9.712932   9.711340        9.712136\n",
              "6      110  13.274460  13.273419       13.273940\n",
              "7      115  17.313805  17.313419       17.313612\n",
              "8      120  21.714371  21.714515       21.714443"
            ]
          },
          "execution_count": 10,
          "metadata": {},
          "output_type": "execute_result"
        }
      ],
      "source": [
        "callprice = pd.DataFrame(\n",
        "    {'Initial': [i for i in range(80, 125, 5)],\n",
        "     'Explicit': v_ex[70:111:5],\n",
        "     'Implicit': v_im[70:111:5],\n",
        "     'Crank-Nicolson': v_crank[70:111:5],\n",
        "    })\n",
        "callprice"
      ]
    },
    {
      "cell_type": "markdown",
      "metadata": {
        "id": "T2r7vEU_WeHl"
      },
      "source": [
        "# **Implied Volatility**\n",
        "European Call Option: \n",
        "$$BS_{\\text{call}}(S_0, K, \\sigma_{imp}, r, T) = C$$\n",
        "\n",
        "$$P(S, t) = K e^{-r(T-t)} N(-d_{-}) - S N(-d_{+})$$\n",
        "$$d_{\\pm} = \\frac{log(S/K) + (r \\pm \\frac{1}{2}\\sigma^2)(T-t)}{\\sqrt{\\sigma^2 (T-t)}}, N(x) = \\frac{1}{\\sqrt{2\\pi}} \\int_{-\\infty}^{x} e^{-\\frac{1}{2}p^2} \\,dp $$\n"
      ]
    },
    {
      "cell_type": "code",
      "execution_count": 11,
      "metadata": {},
      "outputs": [],
      "source": [
        "import numpy as np\n",
        "from scipy.stats import norm\n",
        "from scipy import optimize\n",
        "\n",
        "def impliedvol(S,K,T,r,marketoptionPrice):\n",
        "  \n",
        "    def bs_call(vol):\n",
        "        d1 = (np.log(S/K) + (r + 0.5*vol**2)*T) / (vol*np.sqrt(T))\n",
        "        d2 = d1-(vol * np.sqrt(T))\n",
        "        BSprice_call =  S * norm.cdf(d1) - np.exp(-r * T) * K * norm.cdf(d2) \n",
        "        fx = BSprice_call - marketoptionPrice\n",
        "        return fx\n",
        "\n",
        "    return optimize.brentq(bs_call,0.0001,100,maxiter=1000) #If convergence is not achieved in maxiter iterations, an error is raised.\n"
      ]
    },
    {
      "cell_type": "code",
      "execution_count": 12,
      "metadata": {},
      "outputs": [],
      "source": [
        "# Use (1) to compute European call option price \n",
        "# Say we use explicit scheme\n",
        "\n",
        "K_list = [i for i in range(70, 131)]\n",
        "Call_price = []\n",
        "\n",
        "for K in K_list:\n",
        "    volatility = np.array(Volatility_function(0, s))\n",
        "    a_diag, b_diag, c_diag, L, I = getmatrix(volatility)\n",
        "    v_ex = np.maximum(s - K, 0) # call option payoff\n",
        "\n",
        "    for n in range(1,N+1):\n",
        "        v_ex = np.matmul(I+L, v_ex)           # Matrix product V^{n+1} = (I+L)V^n\n",
        "        v_ex[0] = 0       \n",
        "        v_ex[M] = s_max - K*np.exp(-r*tau[n])                        \n",
        "   \n",
        "        volatility =  np.array(Volatility_function(n/N, s))\n",
        "        a_diag, b_diag, c_diag, L, I = getmatrix(volatility)\n",
        "\n",
        "    Call_price.append(v_ex[90])"
      ]
    },
    {
      "cell_type": "code",
      "execution_count": 13,
      "metadata": {},
      "outputs": [],
      "source": [
        "impliedsigma = []\n",
        "\n",
        "for i in range(61):\n",
        "    j = impliedvol(S = 100, K = K_list[i], T = 1, r = 0.01, marketoptionPrice = Call_price[i])\n",
        "    impliedsigma.append(j)"
      ]
    },
    {
      "cell_type": "code",
      "execution_count": 14,
      "metadata": {},
      "outputs": [],
      "source": [
        "local = pd.DataFrame(\n",
        "    {'K': K_list,\n",
        "     'Call Option Price':Call_price,\n",
        "     'Implied Volatility': impliedsigma,\n",
        "    })\n",
        "local.to_csv('local.csv', index = False, float_format=\"%.4f\")  "
      ]
    },
    {
      "cell_type": "code",
      "execution_count": 15,
      "metadata": {},
      "outputs": [
        {
          "data": {
            "text/html": [
              "<div>\n",
              "<style scoped>\n",
              "    .dataframe tbody tr th:only-of-type {\n",
              "        vertical-align: middle;\n",
              "    }\n",
              "\n",
              "    .dataframe tbody tr th {\n",
              "        vertical-align: top;\n",
              "    }\n",
              "\n",
              "    .dataframe thead th {\n",
              "        text-align: right;\n",
              "    }\n",
              "</style>\n",
              "<table border=\"1\" class=\"dataframe\">\n",
              "  <thead>\n",
              "    <tr style=\"text-align: right;\">\n",
              "      <th></th>\n",
              "      <th>K</th>\n",
              "      <th>Call Option Price</th>\n",
              "      <th>Implied Volatility</th>\n",
              "    </tr>\n",
              "  </thead>\n",
              "  <tbody>\n",
              "    <tr>\n",
              "      <th>0</th>\n",
              "      <td>70</td>\n",
              "      <td>30.801219</td>\n",
              "      <td>0.177508</td>\n",
              "    </tr>\n",
              "    <tr>\n",
              "      <th>1</th>\n",
              "      <td>71</td>\n",
              "      <td>29.833390</td>\n",
              "      <td>0.176653</td>\n",
              "    </tr>\n",
              "    <tr>\n",
              "      <th>2</th>\n",
              "      <td>72</td>\n",
              "      <td>28.869530</td>\n",
              "      <td>0.175812</td>\n",
              "    </tr>\n",
              "    <tr>\n",
              "      <th>3</th>\n",
              "      <td>73</td>\n",
              "      <td>27.910192</td>\n",
              "      <td>0.174984</td>\n",
              "    </tr>\n",
              "    <tr>\n",
              "      <th>4</th>\n",
              "      <td>74</td>\n",
              "      <td>26.955985</td>\n",
              "      <td>0.174169</td>\n",
              "    </tr>\n",
              "    <tr>\n",
              "      <th>...</th>\n",
              "      <td>...</td>\n",
              "      <td>...</td>\n",
              "      <td>...</td>\n",
              "    </tr>\n",
              "    <tr>\n",
              "      <th>56</th>\n",
              "      <td>126</td>\n",
              "      <td>0.445468</td>\n",
              "      <td>0.144856</td>\n",
              "    </tr>\n",
              "    <tr>\n",
              "      <th>57</th>\n",
              "      <td>127</td>\n",
              "      <td>0.389185</td>\n",
              "      <td>0.144478</td>\n",
              "    </tr>\n",
              "    <tr>\n",
              "      <th>58</th>\n",
              "      <td>128</td>\n",
              "      <td>0.339241</td>\n",
              "      <td>0.144105</td>\n",
              "    </tr>\n",
              "    <tr>\n",
              "      <th>59</th>\n",
              "      <td>129</td>\n",
              "      <td>0.295035</td>\n",
              "      <td>0.143737</td>\n",
              "    </tr>\n",
              "    <tr>\n",
              "      <th>60</th>\n",
              "      <td>130</td>\n",
              "      <td>0.256010</td>\n",
              "      <td>0.143373</td>\n",
              "    </tr>\n",
              "  </tbody>\n",
              "</table>\n",
              "<p>61 rows × 3 columns</p>\n",
              "</div>"
            ],
            "text/plain": [
              "      K  Call Option Price  Implied Volatility\n",
              "0    70          30.801219            0.177508\n",
              "1    71          29.833390            0.176653\n",
              "2    72          28.869530            0.175812\n",
              "3    73          27.910192            0.174984\n",
              "4    74          26.955985            0.174169\n",
              "..  ...                ...                 ...\n",
              "56  126           0.445468            0.144856\n",
              "57  127           0.389185            0.144478\n",
              "58  128           0.339241            0.144105\n",
              "59  129           0.295035            0.143737\n",
              "60  130           0.256010            0.143373\n",
              "\n",
              "[61 rows x 3 columns]"
            ]
          },
          "execution_count": 15,
          "metadata": {},
          "output_type": "execute_result"
        }
      ],
      "source": [
        "local"
      ]
    },
    {
      "cell_type": "code",
      "execution_count": 16,
      "metadata": {},
      "outputs": [
        {
          "data": {
            "image/png": "[encoded data removed]",
            "text/plain": [
              "<Figure size 1080x720 with 1 Axes>"
            ]
          },
          "metadata": {
            "needs_background": "light"
          },
          "output_type": "display_data"
        }
      ],
      "source": [
        "plt.figure(figsize = (15,10))\n",
        "plt.plot(K_list, impliedsigma)\n",
        "plt.xlabel('Strike K', fontsize=15)\n",
        "plt.ylabel(\"Implied Volatility\", fontsize=15)\n",
        "plt.savefig('implied_volatility1.eps',format = 'eps')"
      ]
    },
    {
      "cell_type": "code",
      "execution_count": 17,
      "metadata": {},
      "outputs": [],
      "source": [
        "# Now we fix constant local volatility\n",
        "# Using implicit scheme\n",
        "sigma = 0.157\n",
        "a_diag, b_diag, c_diag, L, I = getmatrix(sigma)\n",
        "\n",
        "newCall_price = []\n",
        "\n",
        "for K in K_list:\n",
        "    v_im = np.maximum(s - K, 0) # call option payoff\n",
        "    \n",
        "    for n in range(1,N+1):\n",
        "        d = v_im           \n",
        "        d[0] = 0       # Boundary operation at s_min\n",
        "        d[M] = s_max - K*np.exp(-r*tau[n])          \n",
        "        v_im = TDMAsolver(-a_diag, 1-b_diag, -c_diag, d)     \n",
        "\n",
        "    newCall_price.append(v_im[90])"
      ]
    },
    {
      "cell_type": "code",
      "execution_count": 18,
      "metadata": {},
      "outputs": [],
      "source": [
        "new_impliedsigma = []\n",
        "for i in range(61):\n",
        "    j = impliedvol(S = 100, K = K_list[i], T = 1, r = 0.01, marketoptionPrice = newCall_price[i])\n",
        "    new_impliedsigma.append(j)\n"
      ]
    },
    {
      "cell_type": "code",
      "execution_count": 19,
      "metadata": {},
      "outputs": [],
      "source": [
        "new_local = pd.DataFrame(\n",
        "    {'K': K_list,\n",
        "     'Call Option Price':newCall_price,\n",
        "     'Implied Volatility': new_impliedsigma,\n",
        "    })\n",
        "new_local.to_csv('new_local.csv', index = False, float_format=\"%.4f\")  "
      ]
    },
    {
      "cell_type": "code",
      "execution_count": 20,
      "metadata": {},
      "outputs": [
        {
          "data": {
            "text/html": [
              "<div>\n",
              "<style scoped>\n",
              "    .dataframe tbody tr th:only-of-type {\n",
              "        vertical-align: middle;\n",
              "    }\n",
              "\n",
              "    .dataframe tbody tr th {\n",
              "        vertical-align: top;\n",
              "    }\n",
              "\n",
              "    .dataframe thead th {\n",
              "        text-align: right;\n",
              "    }\n",
              "</style>\n",
              "<table border=\"1\" class=\"dataframe\">\n",
              "  <thead>\n",
              "    <tr style=\"text-align: right;\">\n",
              "      <th></th>\n",
              "      <th>K</th>\n",
              "      <th>Call Option Price</th>\n",
              "      <th>Implied Volatility</th>\n",
              "    </tr>\n",
              "  </thead>\n",
              "  <tbody>\n",
              "    <tr>\n",
              "      <th>0</th>\n",
              "      <td>70</td>\n",
              "      <td>30.739816</td>\n",
              "      <td>0.157141</td>\n",
              "    </tr>\n",
              "    <tr>\n",
              "      <th>1</th>\n",
              "      <td>71</td>\n",
              "      <td>29.763163</td>\n",
              "      <td>0.157118</td>\n",
              "    </tr>\n",
              "    <tr>\n",
              "      <th>2</th>\n",
              "      <td>72</td>\n",
              "      <td>28.789894</td>\n",
              "      <td>0.157097</td>\n",
              "    </tr>\n",
              "    <tr>\n",
              "      <th>3</th>\n",
              "      <td>73</td>\n",
              "      <td>27.820656</td>\n",
              "      <td>0.157078</td>\n",
              "    </tr>\n",
              "    <tr>\n",
              "      <th>4</th>\n",
              "      <td>74</td>\n",
              "      <td>26.856169</td>\n",
              "      <td>0.157059</td>\n",
              "    </tr>\n",
              "    <tr>\n",
              "      <th>...</th>\n",
              "      <td>...</td>\n",
              "      <td>...</td>\n",
              "      <td>...</td>\n",
              "    </tr>\n",
              "    <tr>\n",
              "      <th>56</th>\n",
              "      <td>126</td>\n",
              "      <td>0.630059</td>\n",
              "      <td>0.157011</td>\n",
              "    </tr>\n",
              "    <tr>\n",
              "      <th>57</th>\n",
              "      <td>127</td>\n",
              "      <td>0.565516</td>\n",
              "      <td>0.157018</td>\n",
              "    </tr>\n",
              "    <tr>\n",
              "      <th>58</th>\n",
              "      <td>128</td>\n",
              "      <td>0.507041</td>\n",
              "      <td>0.157024</td>\n",
              "    </tr>\n",
              "    <tr>\n",
              "      <th>59</th>\n",
              "      <td>129</td>\n",
              "      <td>0.454137</td>\n",
              "      <td>0.157031</td>\n",
              "    </tr>\n",
              "    <tr>\n",
              "      <th>60</th>\n",
              "      <td>130</td>\n",
              "      <td>0.406333</td>\n",
              "      <td>0.157038</td>\n",
              "    </tr>\n",
              "  </tbody>\n",
              "</table>\n",
              "<p>61 rows × 3 columns</p>\n",
              "</div>"
            ],
            "text/plain": [
              "      K  Call Option Price  Implied Volatility\n",
              "0    70          30.739816            0.157141\n",
              "1    71          29.763163            0.157118\n",
              "2    72          28.789894            0.157097\n",
              "3    73          27.820656            0.157078\n",
              "4    74          26.856169            0.157059\n",
              "..  ...                ...                 ...\n",
              "56  126           0.630059            0.157011\n",
              "57  127           0.565516            0.157018\n",
              "58  128           0.507041            0.157024\n",
              "59  129           0.454137            0.157031\n",
              "60  130           0.406333            0.157038\n",
              "\n",
              "[61 rows x 3 columns]"
            ]
          },
          "execution_count": 20,
          "metadata": {},
          "output_type": "execute_result"
        }
      ],
      "source": [
        "new_local"
      ]
    },
    {
      "cell_type": "code",
      "execution_count": 21,
      "metadata": {},
      "outputs": [
        {
          "data": {
            "image/png": "[encoded data removed]",
            "text/plain": [
              "<Figure size 1080x720 with 1 Axes>"
            ]
          },
          "metadata": {
            "needs_background": "light"
          },
          "output_type": "display_data"
        }
      ],
      "source": [
        "plt.figure(figsize = (15,10))\n",
        "plt.plot(K_list, new_impliedsigma)\n",
        "plt.xlabel('Strike K', fontsize=15)\n",
        "plt.ylabel(\"Implied Volatility\", fontsize=15)\n",
        "plt.savefig('implied_volatility2.eps',format = 'eps')"
      ]
    },
    {
      "cell_type": "markdown",
      "metadata": {},
      "source": [
        "# Down-and-in Barrier put option\n",
        "\n",
        "$$\\frac{\\partial V}{\\partial \\tau} = \\frac{\\sigma(\\tau, s)^2 s^2}{2}\\frac{\\partial^2 V}{\\partial s^2} + rs\\frac{\\partial V}{\\partial s} -rV, \\tau>0 $$\n",
        "$$V(0,s) = g(s) = (s-K)^{+} 1_{(s \\leq B_{in})}, \\tau=0 $$\n",
        "$$V(\\tau, B_{in}) = 0, \\tau >0$$\n"
      ]
    },
    {
      "cell_type": "code",
      "execution_count": 22,
      "metadata": {},
      "outputs": [],
      "source": [
        "#Local Volatility Model \n",
        "# Put Option Price, implicit scheme \n",
        "B_list = [60, 70, 80, 90]\n",
        "K, r, T = 100, 0.01, 1\n",
        "\n",
        "volatility = np.array(Volatility_function(tau[1], s))\n",
        "a_diag, b_diag, c_diag, L, I = getmatrix(volatility)\n",
        "# Running the implicit scheme\n",
        "v_im = np.maximum(K - s, 0)\n",
        "\n",
        "# Iteration of implicit scheme\n",
        "for n in range(1,N+1):\n",
        "    d = v_im   \n",
        "    d[0] = K*np.exp(-r*tau[n]) \n",
        "    d[M] = 0\n",
        "    v_im = TDMAsolver(-a_diag, 1-b_diag, -c_diag, d)   \n",
        "\n",
        "    volatility =  np.array(Volatility_function((n+1)/N, s))\n",
        "    a_diag, b_diag, c_diag, L, I = getmatrix(volatility)\n",
        "\n",
        "Put_price = v_im[100 - s_min]\n"
      ]
    },
    {
      "cell_type": "code",
      "execution_count": 23,
      "metadata": {},
      "outputs": [
        {
          "data": {
            "text/plain": [
              "5.730900036310575"
            ]
          },
          "execution_count": 23,
          "metadata": {},
          "output_type": "execute_result"
        }
      ],
      "source": [
        "Put_price"
      ]
    },
    {
      "cell_type": "code",
      "execution_count": 24,
      "metadata": {},
      "outputs": [],
      "source": [
        "# Down and out barrier put \n",
        "B_list = [60, 70, 80, 90]\n",
        "outbarrier = []\n",
        "\n",
        "for B in B_list:\n",
        "    s_min = B \n",
        "    s_max = 300\n",
        "    N, M = 1000, s_max - s_min  # we want the grid of x to be 5 \n",
        "\n",
        "    # Setup of grids\n",
        "    dtau = T/N\n",
        "    dx = 1\n",
        "    s = np.linspace(s_min, s_max, M+1)\n",
        "    tau = np.linspace(0, T, N+1)\n",
        "\n",
        "    volatility = np.array(Volatility_function(tau[1], s))\n",
        "    a_diag, b_diag, c_diag, L, I = getmatrix(volatility)\n",
        "\n",
        "    indicator = lambda x: 1 if x > B else 0\n",
        "    indicator = np.vectorize(indicator)\n",
        "    v_im = np.maximum(K - s, 0)* indicator(s)\n",
        "\n",
        "    for n in range(1, N+1):\n",
        "        d = v_im     \n",
        "        d[0] = 0\n",
        "        d[M] = 0\n",
        "        v_im = TDMAsolver(-a_diag, 1-b_diag, -c_diag, d) \n",
        "\n",
        "        volatility =  np.array(Volatility_function((n+1)/N, s))\n",
        "        a_diag, b_diag, c_diag, L, I = getmatrix(volatility)\n",
        "    \n",
        "    outbarrier.append(v_im[100-B])"
      ]
    },
    {
      "cell_type": "code",
      "execution_count": 25,
      "metadata": {},
      "outputs": [
        {
          "data": {
            "text/html": [
              "<div>\n",
              "<style scoped>\n",
              "    .dataframe tbody tr th:only-of-type {\n",
              "        vertical-align: middle;\n",
              "    }\n",
              "\n",
              "    .dataframe tbody tr th {\n",
              "        vertical-align: top;\n",
              "    }\n",
              "\n",
              "    .dataframe thead th {\n",
              "        text-align: right;\n",
              "    }\n",
              "</style>\n",
              "<table border=\"1\" class=\"dataframe\">\n",
              "  <thead>\n",
              "    <tr style=\"text-align: right;\">\n",
              "      <th></th>\n",
              "      <th>B</th>\n",
              "      <th>Put Option Pirce</th>\n",
              "      <th>Down and out Barrier</th>\n",
              "      <th>Down and in Barrier</th>\n",
              "    </tr>\n",
              "  </thead>\n",
              "  <tbody>\n",
              "    <tr>\n",
              "      <th>0</th>\n",
              "      <td>60</td>\n",
              "      <td>5.7309</td>\n",
              "      <td>5.498773</td>\n",
              "      <td>0.232127</td>\n",
              "    </tr>\n",
              "    <tr>\n",
              "      <th>1</th>\n",
              "      <td>70</td>\n",
              "      <td>5.7309</td>\n",
              "      <td>4.499157</td>\n",
              "      <td>1.231743</td>\n",
              "    </tr>\n",
              "    <tr>\n",
              "      <th>2</th>\n",
              "      <td>80</td>\n",
              "      <td>5.7309</td>\n",
              "      <td>2.221413</td>\n",
              "      <td>3.509487</td>\n",
              "    </tr>\n",
              "    <tr>\n",
              "      <th>3</th>\n",
              "      <td>90</td>\n",
              "      <td>5.7309</td>\n",
              "      <td>0.271040</td>\n",
              "      <td>5.459860</td>\n",
              "    </tr>\n",
              "  </tbody>\n",
              "</table>\n",
              "</div>"
            ],
            "text/plain": [
              "    B  Put Option Pirce  Down and out Barrier  Down and in Barrier\n",
              "0  60            5.7309              5.498773             0.232127\n",
              "1  70            5.7309              4.499157             1.231743\n",
              "2  80            5.7309              2.221413             3.509487\n",
              "3  90            5.7309              0.271040             5.459860"
            ]
          },
          "execution_count": 25,
          "metadata": {},
          "output_type": "execute_result"
        }
      ],
      "source": [
        "localbarrier = pd.DataFrame(\n",
        "    {\n",
        "        'B': B_list,\n",
        "        'Put Option Pirce': [Put_price]*4,\n",
        "        'Down and out Barrier': outbarrier,\n",
        "        'Down and in Barrier': [Put_price - x for x in outbarrier],\n",
        "    }\n",
        ")\n",
        "localbarrier"
      ]
    },
    {
      "cell_type": "code",
      "execution_count": 26,
      "metadata": {},
      "outputs": [],
      "source": [
        "# Constant volatility case\n",
        "B_list = [60, 70, 80, 90]\n",
        "K, r, T = 100, 0.01, 1\n",
        "s_min, s_max = 10, 300\n",
        "N, M = 1000, 290  # we want the grid of x to be 5 \n",
        "\n",
        "# Setup of grids\n",
        "dtau = T/N\n",
        "dx = (s_max - s_min)/M\n",
        "s = np.linspace(s_min, s_max, M+1)\n",
        "tau = np.linspace(0, T, N+1)\n",
        "\n",
        "sigma = 0.157\n",
        "a_diag, b_diag, c_diag, L, I = getmatrix(sigma)\n",
        "\n",
        "v_im = np.maximum(K - s, 0)\n",
        "\n",
        "for n in range(1,N+1):\n",
        "    d = v_im   \n",
        "    d[0] = K*np.exp(-r*tau[n]) \n",
        "    d[M] = 0\n",
        "    v_im = TDMAsolver(-a_diag, 1-b_diag, -c_diag, d)   \n",
        "\n",
        "Put_const = v_im[100 -10]\n"
      ]
    },
    {
      "cell_type": "code",
      "execution_count": 27,
      "metadata": {},
      "outputs": [
        {
          "data": {
            "text/plain": [
              "5.736997561300398"
            ]
          },
          "execution_count": 27,
          "metadata": {},
          "output_type": "execute_result"
        }
      ],
      "source": [
        "Put_const"
      ]
    },
    {
      "cell_type": "code",
      "execution_count": 28,
      "metadata": {},
      "outputs": [],
      "source": [
        "# Down and out barrier put \n",
        "outbarrier_new = []\n",
        "\n",
        "for B in B_list:\n",
        "    s_min = B \n",
        "    s_max = 300\n",
        "    N, M = 1000, s_max - s_min  # we want the grid of x to be 5 \n",
        "\n",
        "    # Setup of grids\n",
        "    dtau = T/N\n",
        "    dx = 1\n",
        "    s = np.linspace(s_min, s_max, M+1)\n",
        "    tau = np.linspace(0, T, N+1)\n",
        "\n",
        "    volatility = 0.157\n",
        "    a_diag, b_diag, c_diag, L, I = getmatrix(volatility)\n",
        "\n",
        "    indicator = lambda x: 1 if x > B else 0\n",
        "    indicator = np.vectorize(indicator)\n",
        "    v_im = np.maximum(K - s, 0)* indicator(s)\n",
        "\n",
        "    for n in range(1, N+1):\n",
        "        d = v_im     \n",
        "        d[0] = 0\n",
        "        d[M] = 0\n",
        "        v_im = TDMAsolver(-a_diag, 1-b_diag, -c_diag, d) \n",
        "    \n",
        "    outbarrier_new.append(v_im[100-B])"
      ]
    },
    {
      "cell_type": "code",
      "execution_count": 29,
      "metadata": {},
      "outputs": [
        {
          "data": {
            "text/html": [
              "<div>\n",
              "<style scoped>\n",
              "    .dataframe tbody tr th:only-of-type {\n",
              "        vertical-align: middle;\n",
              "    }\n",
              "\n",
              "    .dataframe tbody tr th {\n",
              "        vertical-align: top;\n",
              "    }\n",
              "\n",
              "    .dataframe thead th {\n",
              "        text-align: right;\n",
              "    }\n",
              "</style>\n",
              "<table border=\"1\" class=\"dataframe\">\n",
              "  <thead>\n",
              "    <tr style=\"text-align: right;\">\n",
              "      <th></th>\n",
              "      <th>B</th>\n",
              "      <th>Put Option Pirce</th>\n",
              "      <th>Down and out Barrier</th>\n",
              "      <th>Down and in Barrier</th>\n",
              "    </tr>\n",
              "  </thead>\n",
              "  <tbody>\n",
              "    <tr>\n",
              "      <th>0</th>\n",
              "      <td>60</td>\n",
              "      <td>5.736998</td>\n",
              "      <td>5.687471</td>\n",
              "      <td>0.049527</td>\n",
              "    </tr>\n",
              "    <tr>\n",
              "      <th>1</th>\n",
              "      <td>70</td>\n",
              "      <td>5.736998</td>\n",
              "      <td>5.024652</td>\n",
              "      <td>0.712345</td>\n",
              "    </tr>\n",
              "    <tr>\n",
              "      <th>2</th>\n",
              "      <td>80</td>\n",
              "      <td>5.736998</td>\n",
              "      <td>2.630731</td>\n",
              "      <td>3.106267</td>\n",
              "    </tr>\n",
              "    <tr>\n",
              "      <th>3</th>\n",
              "      <td>90</td>\n",
              "      <td>5.736998</td>\n",
              "      <td>0.307449</td>\n",
              "      <td>5.429548</td>\n",
              "    </tr>\n",
              "  </tbody>\n",
              "</table>\n",
              "</div>"
            ],
            "text/plain": [
              "    B  Put Option Pirce  Down and out Barrier  Down and in Barrier\n",
              "0  60          5.736998              5.687471             0.049527\n",
              "1  70          5.736998              5.024652             0.712345\n",
              "2  80          5.736998              2.630731             3.106267\n",
              "3  90          5.736998              0.307449             5.429548"
            ]
          },
          "execution_count": 29,
          "metadata": {},
          "output_type": "execute_result"
        }
      ],
      "source": [
        "constbarrier = pd.DataFrame(\n",
        "    {\n",
        "        'B': B_list,\n",
        "        'Put Option Pirce': [Put_const]*4,\n",
        "        'Down and out Barrier': outbarrier_new,\n",
        "        'Down and in Barrier': [Put_const - x for x in outbarrier_new],\n",
        "    }\n",
        ")\n",
        "constbarrier"
      ]
    },
    {
      "cell_type": "code",
      "execution_count": null,
      "metadata": {},
      "outputs": [],
      "source": []
    }
  ],
  "metadata": {
    "colab": {
      "collapsed_sections": [],
      "name": "MATH97110: FiniteDifferenceEuroOptions.ipynb",
      "provenance": []
    },
    "kernelspec": {
      "display_name": "Python 3",
      "name": "python3"
    },
    "language_info": {
      "codemirror_mode": {
        "name": "ipython",
        "version": 3
      },
      "file_extension": ".py",
      "mimetype": "text/x-python",
      "name": "python",
      "nbconvert_exporter": "python",
      "pygments_lexer": "ipython3",
      "version": "3.9.7"
    }
  },
  "nbformat": 4,
  "nbformat_minor": 0
}
